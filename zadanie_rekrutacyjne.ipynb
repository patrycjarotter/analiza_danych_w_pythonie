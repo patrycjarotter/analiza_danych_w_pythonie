{
 "cells": [
  {
   "cell_type": "markdown",
   "metadata": {},
   "source": [
    "**Seria warsztatów z analizy danych w Pythonie**\n",
    "\n",
    "_Zadanie rekrutacyjne_\n",
    "\n",
    "Napisz funkcję <code><font color=\"blue\">are_anagrams</font>(s1, s2, s3)</code>, która zwróci:\n",
    "\n",
    "* <code>True</code>, jeżeli łańcuchy znaków <code>s1, s2, s3</code> są anagramami,\n",
    "\n",
    "* <code>False</code>, jeżeli łańcuchy znaków <code>s1, s2, s3</code> nie są anagramami.\n",
    "\n",
    "Załóż, że maksymalna długość każdego z łańcuchów znaków jest równa **5**.\n",
    "\n",
    "Uzasadnij zaproponowane rozwiązanie, umieszczając komentarze w treści kodu."
   ]
  },
  {
   "cell_type": "code",
   "execution_count": 20,
   "metadata": {},
   "outputs": [],
   "source": [
    "def are_anagrams(s1, s2, s3):\n",
    "    # Anagram – wyraz, wyrażenie lub całe zdanie powstałe przez przestawienie\n",
    "    # liter bądź sylab innego wyrazu lub zdania, wykorzystujące wszystkie litery\n",
    "    # (głoski bądź sylaby) materiału wyjściowego.\n",
    "    # Założono, że każdy z łańcuchów znaków ma maksymalną długość 5 i jest wyrazem.\n",
    "    \n",
    "    \n",
    "    # Zamieniono wszystkie duże litery na małe, aby uzyskać te same znaki,\n",
    "    # jeśli podane wyrazy zaczynają się z wielkiej litery.\n",
    "    lowercase_s1 = s1.lower()\n",
    "    lowercase_s2 = s2.lower()\n",
    "    lowercase_s3 = s3.lower()\n",
    "    # Zmieniono string na listę i uporządkowano w kolejności alfabetycznej w celu łatwego porównania \n",
    "    sorted_s1 = sorted(lowercase_s1)\n",
    "    sorted_s2 = sorted(lowercase_s2)\n",
    "    sorted_s3 = sorted(lowercase_s3)\n",
    "    \n",
    "    equal_lengths = len(s1) == len(s2) == len(s3)\n",
    "    equal_contents = sorted_s1 == sorted_s2 == sorted_s3\n",
    "    \n",
    "    has_duplicates = lowercase_s1 == lowercase_s2 or lowercase_s1 == lowercase_s3 or lowercase_s2 == lowercase_s3\n",
    "    \n",
    "    \n",
    "    if equal_lengths and equal_contents and not has_duplicates:\n",
    "        return True\n",
    "    \n",
    "    return False "
   ]
  },
  {
   "cell_type": "code",
   "execution_count": 23,
   "metadata": {},
   "outputs": [
    {
     "data": {
      "text/plain": [
       "False"
      ]
     },
     "execution_count": 23,
     "metadata": {},
     "output_type": "execute_result"
    }
   ],
   "source": [
    "are_anagrams('kot', 'Tok','tok') # takie same wyrazy"
   ]
  },
  {
   "cell_type": "code",
   "execution_count": 24,
   "metadata": {},
   "outputs": [
    {
     "data": {
      "text/plain": [
       "True"
      ]
     },
     "execution_count": 24,
     "metadata": {},
     "output_type": "execute_result"
    }
   ],
   "source": [
    "are_anagrams('macie', 'ciema', 'miace')"
   ]
  }
 ],
 "metadata": {
  "celltoolbar": "Edit Metadata",
  "kernelspec": {
   "display_name": "Python 3",
   "language": "python",
   "name": "python3"
  },
  "language_info": {
   "codemirror_mode": {
    "name": "ipython",
    "version": 3
   },
   "file_extension": ".py",
   "mimetype": "text/x-python",
   "name": "python",
   "nbconvert_exporter": "python",
   "pygments_lexer": "ipython3",
   "version": "3.9.1"
  }
 },
 "nbformat": 4,
 "nbformat_minor": 2
}
